{
 "cells": [
  {
   "cell_type": "code",
   "execution_count": 2,
   "metadata": {},
   "outputs": [
    {
     "name": "stderr",
     "output_type": "stream",
     "text": [
      "/var/folders/td/yrbgv2bx6612pzs49201dk6r0000gn/T/ipykernel_11523/2977162805.py:7: DtypeWarning: Columns (9,12) have mixed types. Specify dtype option on import or set low_memory=False.\n",
      "  data_tsv = pd.read_csv(file_path_tsv, sep='\\t', encoding='ISO-8859-1')\n"
     ]
    },
    {
     "data": {
      "text/plain": [
       "array(['acetaminophen', 'isoniazid', 'carbon tetrachloride',\n",
       "       'valproic acid', 'phenobarbital', 'rifampicin', 'phenylbutazone',\n",
       "       'clofibrate', 'naphthyl isothiocyanate', 'allyl alcohol',\n",
       "       'indomethacin', 'chlorpromazine', 'thioacetamide', 'omeprazole',\n",
       "       'ethionine', 'aspirin', 'carbamazepine', 'diclofenac',\n",
       "       'nitrofurantoin', 'benzbromarone', 'hexachlorobenzene', 'diazepam',\n",
       "       'cyclophosphamide', 'methapyrilene', 'phenytoin', 'WY-14643',\n",
       "       'gemfibrozil', 'bromobenzene', 'coumarin', 'allopurinol',\n",
       "       'propylthiouracil', 'amiodarone', 'sulfasalazine', 'cimetidine',\n",
       "       'perhexiline', 'azathioprine', 'ketoconazole', 'glibenclamide',\n",
       "       'adapin', 'labetalol', 'methyltestosterone', 'haloperidol',\n",
       "       'thioridazine', 'pemoline', 'chlormezanone', 'metformin',\n",
       "       'fluphenazine', 'methimazole', 'monocrotaline', 'vitamin A',\n",
       "       'griseofulvin', 'flutamide', 'tamoxifen', 'ethinylestradiol',\n",
       "       'methyldopa', 'tetracycline', 'lomustine', 'ciprofloxacin',\n",
       "       'tacrine', 'moxisylyte', 'iproniazid', 'chloramphenicol',\n",
       "       'nitrofurazone', 'ibuprofen', 'naproxen', 'quinidine',\n",
       "       'imipramine', 'amitriptyline', 'hydroxyzine', 'mefenamic acid',\n",
       "       'famotidine', 'ranitidine', 'nicotinic acid',\n",
       "       'erythromycin ethylsuccinate', 'ethambutol', 'furosemide',\n",
       "       'fenofibrate', 'chlorpheniramine', 'nifedipine', 'diltiazem',\n",
       "       'tannic acid', 'captopril', 'enalapril', 'theophylline',\n",
       "       'caffeine', 'papaverine', 'chlorpropamide', 'penicillamine',\n",
       "       'sulindac', 'triamterene', 'galactosamine', 'LPS', 'TNF\\x83¿',\n",
       "       'cycloheximide', 'tunicamycin', 'phorone',\n",
       "       'buthionine sulfoximine', 'diethyl maleate', 'disopyramide',\n",
       "       'mexiletine', 'tiopronin', 'phalloidin', 'acetazolamide',\n",
       "       'disulfiram', 'promethazine', 'colchicine', 'tolbutamide',\n",
       "       'sulpiride', 'acarbose', 'simvastatin', 'ajmaline', 'dantrolene',\n",
       "       'triazolam', 'clomipramine', 'trimethadione', 'terbinafine',\n",
       "       'meloxicam', 'lornoxicam', 'chlormadinone', 'danazol', 'bendazac',\n",
       "       'benziodarone', 'etoposide', 'acetamidofluorene',\n",
       "       'nitrosodiethylamine', 'ticlopidine', 'cisplatin', 'carboplatin',\n",
       "       'bromoethylamine', 'ethionamide', 'nimesulide', 'ethanol',\n",
       "       'phenacetin', 'bucetin', 'phenylanthranilic acid', 'cephalothin',\n",
       "       'cyclosporine A', 'puromycin aminonucleoside', 'gentamicin',\n",
       "       'doxorubicin', 'dexamethasone', 'rosiglitazone maleate',\n",
       "       'rotenone', '2,4-dinitrophenol', 'fluoxetine hydrochloride',\n",
       "       'methylene dianiline', 'butylated hydroxyanisole',\n",
       "       'amphotericin B', 'desmopressin acetate',\n",
       "       '1% cholesterol + 0.25% sodium cholate', '3-methylcholanthrene',\n",
       "       '2-nitrofluorene', 'acetamide', 'N-nitrosomorpholine',\n",
       "       'N-methyl-N-nitrosourea', 'aflatoxin B1', 'propranolol',\n",
       "       'bortezomib', 'imatinib, methanesulfonate salt', 'gefitinib',\n",
       "       'alpidem', 'venlafaxine', 'buspirone', 'clozapine', 'nefazodone',\n",
       "       'interferon alpha, human', 'interleukin 1 beta, human',\n",
       "       'interleukin 6, human', 'transforming growth factor beta 1',\n",
       "       'hepatocyte growth factor, human'], dtype=object)"
      ]
     },
     "execution_count": 2,
     "metadata": {},
     "output_type": "execute_result"
    }
   ],
   "source": [
    "import pandas as pd\n",
    "\n",
    "# Load the TSV file to extract compound names\n",
    "file_path_tsv = 'Open-tggates_AllAttribute.tsv'\n",
    " \n",
    "#  Attempt to load the TSV file with a different encoding\n",
    "data_tsv = pd.read_csv(file_path_tsv, sep='\\t', encoding='ISO-8859-1')\n",
    "\n",
    "# Extract unique compound names\n",
    "unique_compounds = data_tsv['COMPOUND_NAME'].unique()\n",
    "\n",
    "# Display the unique compound names\n",
    "unique_compounds\n"
   ]
  },
  {
   "cell_type": "code",
   "execution_count": 5,
   "metadata": {},
   "outputs": [
    {
     "name": "stderr",
     "output_type": "stream",
     "text": [
      "Fetching SMILES: 100%|██████████| 170/170 [02:49<00:00,  1.00it/s]"
     ]
    },
    {
     "name": "stdout",
     "output_type": "stream",
     "text": [
      "               Compound                             SMILES\n",
      "0         acetaminophen              CC(=O)NC1=CC=C(C=C1)O\n",
      "1             isoniazid                 C1=CN=CC=C1C(=O)NN\n",
      "2  carbon tetrachloride                    C(Cl)(Cl)(Cl)Cl\n",
      "3         valproic acid                    CCCC(CCC)C(=O)O\n",
      "4         phenobarbital  CCC1(C(=O)NC(=O)NC1=O)C2=CC=CC=C2\n"
     ]
    },
    {
     "name": "stderr",
     "output_type": "stream",
     "text": [
      "\n"
     ]
    }
   ],
   "source": [
    "from pubchempy import get_compounds\n",
    "from tqdm import tqdm  # tqdm 모듈을 import\n",
    "import pandas as pd\n",
    "\n",
    "# Initialize a dictionary to store compound names and their SMILES\n",
    "compound_smiles = {}\n",
    "\n",
    "# Loop through each compound name and retrieve its SMILES string using PubChemPy\n",
    "for compound in tqdm(unique_compounds, desc=\"Fetching SMILES\"):\n",
    "    try:\n",
    "        # Get the compound from PubChem\n",
    "        compounds = get_compounds(compound, 'name')\n",
    "        if compounds:\n",
    "            # Store the SMILES string\n",
    "            compound_smiles[compound] = compounds[0].isomeric_smiles\n",
    "        else:\n",
    "            compound_smiles[compound] = None  # No SMILES found\n",
    "    except Exception as e:\n",
    "        compound_smiles[compound] = None  # Handle any exceptions\n",
    "\n",
    "# Convert the dictionary to a DataFrame for easier handling\n",
    "smiles_df = pd.DataFrame(list(compound_smiles.items()), columns=['Compound', 'SMILES'])\n",
    "\n",
    "# Save the DataFrame to a CSV file\n",
    "smiles_df.to_csv('compound_smiles.csv', index=False)\n",
    "\n",
    "# Display the first few entries of the DataFrame\n",
    "print(smiles_df.head())\n"
   ]
  },
  {
   "cell_type": "code",
   "execution_count": 6,
   "metadata": {},
   "outputs": [
    {
     "name": "stdout",
     "output_type": "stream",
     "text": [
      "     Compound                    SMILES  Similarity\n",
      "0  Compound A  CC(C)CC1=CC=C(C=C1)C(C)C    0.408000\n",
      "1  Compound B        CN(C)CCC2=CC=CC=C2    0.350806\n",
      "2  Compound C  CN(C)CCOC(=O)C1=CC=CC=C1    0.350120\n"
     ]
    }
   ],
   "source": [
    "from rdkit import Chem\n",
    "from rdkit.Chem import DataStructs\n",
    "from rdkit.Chem.Fingerprints import FingerprintMols\n",
    "import pandas as pd\n",
    "\n",
    "# Example SMILES for the compound of interest (e.g., Chlorpromazine)\n",
    "target_smiles = 'CN(C)CCCN1C2=CC=CC=C2SC3=C1C=C(C=C3)Cl'\n",
    "target_mol = Chem.MolFromSmiles(target_smiles)\n",
    "target_fp = FingerprintMols.FingerprintMol(target_mol)\n",
    "\n",
    "# Assume smiles_df is a DataFrame with a column 'SMILES' containing the SMILES strings of other compounds\n",
    "smiles_list = [ 'CC(C)CC1=CC=C(C=C1)C(C)C', 'CN(C)CCC2=CC=CC=C2', 'CN(C)CCOC(=O)C1=CC=CC=C1' ]\n",
    "compounds = ['Compound A', 'Compound B', 'Compound C']\n",
    "\n",
    "smiles_df = pd.DataFrame({'Compound': compounds, 'SMILES': smiles_list})\n",
    "\n",
    "# Calculate similarity with the target compound\n",
    "similarities = []\n",
    "for smiles in smiles_df['SMILES']:\n",
    "    mol = Chem.MolFromSmiles(smiles)\n",
    "    fp = FingerprintMols.FingerprintMol(mol)\n",
    "    similarity = DataStructs.FingerprintSimilarity(target_fp, fp)\n",
    "    similarities.append(similarity)\n",
    "\n",
    "smiles_df['Similarity'] = similarities\n",
    "\n",
    "# Sort the compounds by similarity\n",
    "smiles_df = smiles_df.sort_values(by='Similarity', ascending=False)\n",
    "\n",
    "# Display the top potential analogs\n",
    "print(smiles_df)\n"
   ]
  }
 ],
 "metadata": {
  "kernelspec": {
   "display_name": "Python 3",
   "language": "python",
   "name": "python3"
  },
  "language_info": {
   "codemirror_mode": {
    "name": "ipython",
    "version": 3
   },
   "file_extension": ".py",
   "mimetype": "text/x-python",
   "name": "python",
   "nbconvert_exporter": "python",
   "pygments_lexer": "ipython3",
   "version": "3.12.5"
  }
 },
 "nbformat": 4,
 "nbformat_minor": 2
}
